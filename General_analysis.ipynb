{
 "cells": [
  {
   "cell_type": "code",
   "execution_count": 1,
   "metadata": {},
   "outputs": [],
   "source": [
    "import requests\n",
    "import pandas as pd\n",
    "import seaborn as sns\n",
    "import numpy as np\n",
    "import matplotlib.pyplot as plt\n",
    "import matplotlib\n",
    "from nltk.tree import Tree\n",
    "import xml.etree.ElementTree as ET\n",
    "import itertools\n",
    "import matplotlib.dates as mdates\n",
    "\n",
    "from load_data import *\n",
    "pd.options.mode.chained_assignment = None"
   ]
  },
  {
   "cell_type": "code",
   "execution_count": 4,
   "metadata": {},
   "outputs": [],
   "source": [
    "#download_data()\n",
    "\n",
    "# Load plot summaries\n",
    "# plot_df = load_plot_df()\n",
    "\n",
    "# Load movie metadata\n",
    "movie_df = load_movie_df()\n",
    "\n",
    "# Load character metadata\n",
    "char_df = load_char_df()\n",
    "\n",
    "# Load name clusters\n",
    "names_df = load_names_df()\n",
    "\n",
    "# Load tv tropes\n",
    "cluster_df = load_cluster_df()"
   ]
  },
  {
   "attachments": {},
   "cell_type": "markdown",
   "metadata": {},
   "source": [
    "### First graph"
   ]
  },
  {
   "cell_type": "code",
   "execution_count": 5,
   "metadata": {},
   "outputs": [
    {
     "data": {
      "text/plain": [
       "2000    19268\n",
       "1990     9469\n",
       "1980     7397\n",
       "1970     6716\n",
       "1960     5875\n",
       "1950     5723\n",
       "2010     5228\n",
       "1930     4800\n",
       "1940     4466\n",
       "1920     2883\n",
       "1910     2669\n",
       "1900      193\n",
       "1890      149\n",
       "1880        2\n",
       "1010        1\n",
       "Name: Release date decade, dtype: int64"
      ]
     },
     "execution_count": 5,
     "metadata": {},
     "output_type": "execute_result"
    }
   ],
   "source": [
    "# Get relaase date by decade\n",
    "movie_df = movie_df[~movie_df['Release date'].isna()]\n",
    "movie_df['Release date year'] = movie_df['Release date'].apply(lambda x: int(str(x)[:4]))\n",
    "movie_df['Release date decade'] = movie_df['Release date year'].apply(lambda x: int(x/10)*10)\n",
    "movie_df['Release date decade'].value_counts()"
   ]
  },
  {
   "cell_type": "code",
   "execution_count": 10,
   "metadata": {},
   "outputs": [],
   "source": [
    "#romance_genres = ['Romantic comedy', 'Romance Film', 'Romantic drama', 'Romantic fantasy', 'Romantic thriller']\n",
    "#romance_genres = ['Drama', 'Comedy', 'Romance Film', 'Black-and-white', 'Action', 'Thriller', 'Short Film', 'World cinema', 'Crime Fiction', 'Indie']\n",
    "# Take the top 20 genres and look at their evolution through time \n",
    "romance_genres = ['Drama',\n",
    " 'Comedy',\n",
    " 'Romance Film',\n",
    " 'Black-and-white',\n",
    " 'Action',\n",
    " 'Thriller',\n",
    " 'Short Film',\n",
    " 'World cinema',\n",
    " 'Crime Fiction',\n",
    " 'Indie',\n",
    " 'Documentary',\n",
    " 'Horror',\n",
    " 'Silent film',\n",
    " 'Adventure',\n",
    " 'Family Film',\n",
    " 'Action/Adventure',\n",
    " 'Comedy film',\n",
    " 'Musical',\n",
    " 'Animation',\n",
    " 'Romantic drama']\n",
    "\n",
    "def is_romantic(i): return lambda x: any(\n",
    "    y in romance_genres[i] for y in x) if type(x) == list else False\n",
    "\n",
    "romance_movies = movie_df[movie_df['Genres'].apply(is_romantic(slice(0, 5)))]\n",
    "romance_movies = romance_movies[~romance_movies['Release date'].isna()]\n",
    "\n",
    "# For romance movies, plotly the proportion of romantic genres per decade with a slider\n",
    "# Create a dictionary with the number of movies per decade per genre\n",
    "genre_counts = {}\n",
    "for year in range(1890, 2021, 10):\n",
    "    genre_counts[year] = {}\n",
    "    for genre in romance_genres:\n",
    "        genre_counts[year][genre] = romance_movies[romance_movies['Release date'].apply(lambda x: year <= int(str(x)[:4]) < (year+10)) & romance_movies['Genres'].apply(lambda x: (genre in x))]\n",
    "\n",
    "genre_counts_prop = {}\n",
    "for year in range(1890, 2020, 10):\n",
    "    genre_counts_prop[year] = {}\n",
    "    for genre in genre_counts[year].keys():\n",
    "        genre_counts_prop[year][genre] = len(genre_counts[year][genre]) \n",
    "    \n",
    "\n",
    "# Create a dataframe with the proportion of movies per year per genre\n",
    "genre_counts_prop_df = pd.DataFrame(genre_counts_prop)\n",
    "genre_counts_prop_df = genre_counts_prop_df.reset_index()\n",
    "genre_counts_prop_df = genre_counts_prop_df.rename(columns={'index': 'Genre'})\n",
    "genre_counts_prop_df = genre_counts_prop_df.melt(id_vars=['Genre'], var_name='Decade', value_name='Number of movies')\n",
    "genre_counts_prop_df['Proportion of movies'] = genre_counts_prop_df.apply(lambda x: x['Number of movies'] / movie_df['Release date decade'].value_counts()[x['Decade']], axis=1)\n",
    "genre_counts_prop_df['Proportion of movies in percentage'] = genre_counts_prop_df['Proportion of movies'].apply(lambda x: round(x*100, 2))\n",
    "genre_counts_prop_df['Number of movies'] = genre_counts_prop_df['Number of movies'].apply(lambda x: \"Nbr movies: \" + str(x))"
   ]
  },
  {
   "cell_type": "code",
   "execution_count": 11,
   "metadata": {},
   "outputs": [
    {
     "ename": "ValueError",
     "evalue": "Mime type rendering requires nbformat>=4.2.0 but it is not installed",
     "output_type": "error",
     "traceback": [
      "\u001b[0;31m---------------------------------------------------------------------------\u001b[0m",
      "\u001b[0;31mValueError\u001b[0m                                Traceback (most recent call last)",
      "Cell \u001b[0;32mIn [11], line 6\u001b[0m\n\u001b[1;32m      3\u001b[0m fig \u001b[39m=\u001b[39m px\u001b[39m.\u001b[39mbar(genre_counts_prop_df, x\u001b[39m=\u001b[39m\u001b[39m\"\u001b[39m\u001b[39mGenre\u001b[39m\u001b[39m\"\u001b[39m, y\u001b[39m=\u001b[39m\u001b[39m\"\u001b[39m\u001b[39mProportion of movies in percentage\u001b[39m\u001b[39m\"\u001b[39m, animation_frame\u001b[39m=\u001b[39m\u001b[39m\"\u001b[39m\u001b[39mDecade\u001b[39m\u001b[39m\"\u001b[39m, animation_group\u001b[39m=\u001b[39m\u001b[39m\"\u001b[39m\u001b[39mGenre\u001b[39m\u001b[39m\"\u001b[39m, color\u001b[39m=\u001b[39m\u001b[39m\"\u001b[39m\u001b[39mGenre\u001b[39m\u001b[39m\"\u001b[39m, hover_name\u001b[39m=\u001b[39m\u001b[39m\"\u001b[39m\u001b[39mNumber of movies\u001b[39m\u001b[39m\"\u001b[39m, range_y\u001b[39m=\u001b[39m[\u001b[39m0\u001b[39m, \u001b[39m80\u001b[39m])\n\u001b[1;32m      5\u001b[0m fig[\u001b[39m\"\u001b[39m\u001b[39mlayout\u001b[39m\u001b[39m\"\u001b[39m]\u001b[39m.\u001b[39mpop(\u001b[39m\"\u001b[39m\u001b[39mupdatemenus\u001b[39m\u001b[39m\"\u001b[39m) \u001b[39m# optional, drop animation buttons\u001b[39;00m\n\u001b[0;32m----> 6\u001b[0m fig\u001b[39m.\u001b[39;49mshow()\n\u001b[1;32m      7\u001b[0m fig\u001b[39m.\u001b[39mupdate_layout(showlegend\u001b[39m=\u001b[39m\u001b[39mFalse\u001b[39;00m)\n\u001b[1;32m      8\u001b[0m \u001b[39m# center the title\u001b[39;00m\n",
      "File \u001b[0;32m/usr/local/lib/python3.10/site-packages/plotly/basedatatypes.py:3398\u001b[0m, in \u001b[0;36mBaseFigure.show\u001b[0;34m(self, *args, **kwargs)\u001b[0m\n\u001b[1;32m   3365\u001b[0m \u001b[39m\"\"\"\u001b[39;00m\n\u001b[1;32m   3366\u001b[0m \u001b[39mShow a figure using either the default renderer(s) or the renderer(s)\u001b[39;00m\n\u001b[1;32m   3367\u001b[0m \u001b[39mspecified by the renderer argument\u001b[39;00m\n\u001b[0;32m   (...)\u001b[0m\n\u001b[1;32m   3394\u001b[0m \u001b[39mNone\u001b[39;00m\n\u001b[1;32m   3395\u001b[0m \u001b[39m\"\"\"\u001b[39;00m\n\u001b[1;32m   3396\u001b[0m \u001b[39mimport\u001b[39;00m \u001b[39mplotly\u001b[39;00m\u001b[39m.\u001b[39;00m\u001b[39mio\u001b[39;00m \u001b[39mas\u001b[39;00m \u001b[39mpio\u001b[39;00m\n\u001b[0;32m-> 3398\u001b[0m \u001b[39mreturn\u001b[39;00m pio\u001b[39m.\u001b[39;49mshow(\u001b[39mself\u001b[39;49m, \u001b[39m*\u001b[39;49margs, \u001b[39m*\u001b[39;49m\u001b[39m*\u001b[39;49mkwargs)\n",
      "File \u001b[0;32m/usr/local/lib/python3.10/site-packages/plotly/io/_renderers.py:396\u001b[0m, in \u001b[0;36mshow\u001b[0;34m(fig, renderer, validate, **kwargs)\u001b[0m\n\u001b[1;32m    391\u001b[0m         \u001b[39mraise\u001b[39;00m \u001b[39mValueError\u001b[39;00m(\n\u001b[1;32m    392\u001b[0m             \u001b[39m\"\u001b[39m\u001b[39mMime type rendering requires ipython but it is not installed\u001b[39m\u001b[39m\"\u001b[39m\n\u001b[1;32m    393\u001b[0m         )\n\u001b[1;32m    395\u001b[0m     \u001b[39mif\u001b[39;00m \u001b[39mnot\u001b[39;00m nbformat \u001b[39mor\u001b[39;00m LooseVersion(nbformat\u001b[39m.\u001b[39m__version__) \u001b[39m<\u001b[39m LooseVersion(\u001b[39m\"\u001b[39m\u001b[39m4.2.0\u001b[39m\u001b[39m\"\u001b[39m):\n\u001b[0;32m--> 396\u001b[0m         \u001b[39mraise\u001b[39;00m \u001b[39mValueError\u001b[39;00m(\n\u001b[1;32m    397\u001b[0m             \u001b[39m\"\u001b[39m\u001b[39mMime type rendering requires nbformat>=4.2.0 but it is not installed\u001b[39m\u001b[39m\"\u001b[39m\n\u001b[1;32m    398\u001b[0m         )\n\u001b[1;32m    400\u001b[0m     ipython_display\u001b[39m.\u001b[39mdisplay(bundle, raw\u001b[39m=\u001b[39m\u001b[39mTrue\u001b[39;00m)\n\u001b[1;32m    402\u001b[0m \u001b[39m# external renderers\u001b[39;00m\n",
      "\u001b[0;31mValueError\u001b[0m: Mime type rendering requires nbformat>=4.2.0 but it is not installed"
     ]
    }
   ],
   "source": [
    "import plotly.express as px\n",
    "\n",
    "fig = px.bar(genre_counts_prop_df, x=\"Genre\", y=\"Proportion of movies in percentage\", animation_frame=\"Decade\", animation_group=\"Genre\", color=\"Genre\", hover_name=\"Number of movies\", range_y=[0, 80])\n",
    "\n",
    "fig[\"layout\"].pop(\"updatemenus\") # optional, drop animation buttons\n",
    "fig.show()\n",
    "fig.update_layout(showlegend=False)\n",
    "# center the title\n",
    "\n",
    "fig.update_layout(\n",
    "    title=\"Distribution of movies genres across time\",\n",
    "    yaxis_title=\"Proportion of movies genre by decade in percentage\",\n",
    "    xaxis_title=\"\"\n",
    "    )\n",
    "    # control the speed of the animation\n",
    "fig.update_layout(\n",
    "    updatemenus=[\n",
    "        dict(\n",
    "            type=\"buttons\",\n",
    "            buttons=[\n",
    "                dict(\n",
    "                    args=[None, {\"frame\": {\"duration\": 500, \"redraw\": False},\n",
    "                                    \"fromcurrent\": True, \"transition\": {\"duration\": 400, \"easing\": \"quadratic-in-out\"}}],\n",
    "                    label=\"Play\",\n",
    "                    method=\"animate\"\n",
    "                ),\n",
    "                dict(\n",
    "                    args=[[None], {\"frame\": {\"duration\": 0, \"redraw\": False},\n",
    "                                    \"mode\": \"immediate\",    \n",
    "                                    \"transition\": {\"duration\": 0}}],\n",
    "                    label=\"Pause\",\n",
    "                    method=\"animate\"\n",
    "                )\n",
    "            ]\n",
    "        )\n",
    "    ]\n",
    ")\n",
    "fig.update_layout(\n",
    "    title={\n",
    "        'text': \"Distribution of movies genres across time\",\n",
    "        'y':0.98,\n",
    "        'x':0.5,\n",
    "        'xanchor': 'center',\n",
    "        'yanchor': 'top'})\n",
    "\n",
    "\n",
    "fig.write_html(\"genre_distrib.html\")"
   ]
  },
  {
   "attachments": {},
   "cell_type": "markdown",
   "metadata": {},
   "source": [
    "### Second graph"
   ]
  },
  {
   "cell_type": "code",
   "execution_count": null,
   "metadata": {},
   "outputs": [],
   "source": [
    "PATH = 'final_df.csv'\n",
    "# Load final_df from csv file\n",
    "df = pd.read_csv(PATH, sep='\\t')\n",
    "df['Cluster'] = df['labels']"
   ]
  },
  {
   "cell_type": "code",
   "execution_count": null,
   "metadata": {},
   "outputs": [],
   "source": [
    "titles = ['Decision-makers', 'Heroes & anti-heroes', 'Femme fatale', 'Cunning evil', 'Clumsy', 'Virtuous', 'Righteous warrior', 'Benevolent leader', 'Wise mentor', 'Captain', 'Ingenuous', 'Tycoon', 'Ruthless commander', 'Arrogant leader', 'Love interest', 'Reconciliator', 'Adventurous woman', 'Apprentice', 'Young lover', 'Logistician', 'Lawyer', 'Stubborn fool', 'Eccentric villain', 'Marksman', 'Goofy friend', 'Hardworking learner', 'Benevolent', 'Sophisticated psycopath', 'Nemesis', 'Corrupt', 'Good cop', 'Musician', 'Protector', 'Family-oriented']\n",
    "df['Cluster'] = df['labels'].apply(lambda x: titles[x-1])"
   ]
  },
  {
   "cell_type": "code",
   "execution_count": null,
   "metadata": {},
   "outputs": [],
   "source": [
    "# Find wikipedia id that are both in df and movie_df\n",
    "df['Wikipedia ID'] = df['Wikipedia ID'].astype(int)\n",
    "movie_df['Wikipedia ID'] = movie_df['Wikipedia ID'].astype(int)"
   ]
  },
  {
   "cell_type": "code",
   "execution_count": null,
   "metadata": {},
   "outputs": [],
   "source": [
    "# Get relaase date by decade\n",
    "movie_df = movie_df[~movie_df['Release date'].isna()]\n",
    "movie_df['Release date year'] = movie_df['Release date'].apply(lambda x: int(str(x)[:4]))\n",
    "movie_df['Release date decade'] = movie_df['Release date year'].apply(lambda x: int(x/10)*10)\n",
    "movie_df['Release date decade'][movie_df['Release date year'] < 1970] = 1960"
   ]
  },
  {
   "cell_type": "code",
   "execution_count": null,
   "metadata": {},
   "outputs": [],
   "source": [
    "new_df = df.merge(movie_df, on='Wikipedia ID')"
   ]
  },
  {
   "cell_type": "code",
   "execution_count": null,
   "metadata": {},
   "outputs": [],
   "source": [
    "# Find most common Cluster in new_df\n",
    "most_common_clusters = new_df.groupby(new_df['labels']).size().sort_values(ascending=False).head(10).index\n",
    "most_common_clusters_name = [titles[i-1] for i in most_common_clusters]\n",
    "most_common_clusters_name"
   ]
  },
  {
   "cell_type": "code",
   "execution_count": null,
   "metadata": {},
   "outputs": [],
   "source": [
    "def make_cluster(df, i):\n",
    "    cluster = df[df['labels'] == i]\n",
    "    nbr_char_cluster = cluster.groupby(cluster['Release date decade']).size()\n",
    "    nbr_char_by_decade = df.groupby(df['Release date decade']).size()\n",
    "    cluster['Number of characters in cluster'] = cluster['Release date decade'].apply(lambda x: nbr_char_cluster[x] if nbr_char_cluster[x] else 0) \n",
    "    total_revenue_by_decade = df.groupby(df['Release date decade'])['Box office revenue_y'].sum()\n",
    "    cluster['Ratio of characters in cluster by decade'] = cluster['Release date decade'].apply(lambda x: (1 / nbr_char_by_decade[x]) if nbr_char_by_decade[x] else 0)\n",
    "    rev_cluster = cluster.groupby(cluster['Release date decade'])['Box office revenue_y'].sum()\n",
    "    cluster['Revenue by decade'] = cluster['Release date decade'].apply(lambda x: rev_cluster[x] if rev_cluster[x] else 0)\n",
    "    cluster['Ratio of revenue in cluster by decade'] = cluster['Release date decade'].apply(lambda x: (1 / total_revenue_by_decade[x]) if total_revenue_by_decade[x] else 0)\n",
    "    cluster['Box office revenue_y'] = cluster['Box office revenue_y'].fillna('Not available')\n",
    "    cluster['Box office revenue_x'] = cluster['Box office revenue_x'].fillna('Not available')\n",
    "    cluster['Actor age at release'] = cluster['Actor age at release'].fillna('Not available')\n",
    "    return cluster"
   ]
  },
  {
   "cell_type": "code",
   "execution_count": null,
   "metadata": {},
   "outputs": [],
   "source": [
    "import plotly.graph_objects as go\n",
    "\n",
    "import pandas as pd\n",
    "\n",
    "# Initialize figure\n",
    "fig = go.Figure()\n",
    "\n",
    "# Generate cluster for 10 most common clusters\n",
    "for i in most_common_clusters:\n",
    "    cluster = make_cluster(new_df, i)\n",
    "    fig.add_trace(go.Bar(x=cluster[\"Release date decade\"], \n",
    "                        y=cluster[\"Ratio of characters in cluster by decade\"] * 100,\n",
    "                        marker=dict(\n",
    "                            color=(cluster['Ratio of revenue in cluster by decade'] * 100), #set color equal to a variable\n",
    "                            colorscale='Viridis', # one of plotly colorscales\n",
    "                            showscale=True),\n",
    "                        hovertext=cluster[\"Character name\"],\n",
    "                        hovertemplate = \n",
    "                        \"<b>%{hovertext}</b><br><br>\" + \n",
    "                        \"Movie title: %{customdata[29]}<br>\" +\n",
    "                        \"Release date: %{customdata[37]}<br>\" + \n",
    "                        \"Actor age at release: %{customdata[20]}<br>\" + \n",
    "                        \"Box office revenue: %{customdata[31]:.2s}<br>\",\n",
    "                        customdata=cluster.values.tolist(),\n",
    "                        name=titles[i-1]))\n",
    " \n",
    "fig.update_layout(\n",
    "    updatemenus=[\n",
    "        dict(\n",
    "            active=0,\n",
    "            buttons=list([\n",
    "                dict(label=most_common_clusters_name[0],\n",
    "                     method=\"update\",\n",
    "                     args=[{\"visible\": [True, False, False, False, False, False, False, False, False, False]},\n",
    "                           {\"title\": most_common_clusters_name[0]}]),\n",
    "                dict(label=most_common_clusters_name[1],\n",
    "                     method=\"update\",\n",
    "                     args=[{\"visible\": [False, True, False, False, False, False, False, False, False, False]},\n",
    "                           {\"title\": most_common_clusters_name[1]}]),\n",
    "                dict(label=most_common_clusters_name[2],\n",
    "                        method=\"update\",\n",
    "                        args=[{\"visible\": [False, False, True, False, False, False, False, False, False, False]},\n",
    "                            {\"title\": most_common_clusters_name[2]}]),\n",
    "                dict(label=most_common_clusters_name[3],\n",
    "                        method=\"update\",\n",
    "                        args=[{\"visible\": [False, False, False, True, False, False, False, False, False, False]},\n",
    "                            {\"title\": most_common_clusters_name[3]}]),\n",
    "                dict(label=most_common_clusters_name[4],\n",
    "                        method=\"update\",\n",
    "                        args=[{\"visible\": [False, False, False, False, True, False, False, False, False, False]},\n",
    "                            {\"title\": most_common_clusters_name[4]}]),\n",
    "                dict(label=most_common_clusters_name[5],\n",
    "                        method=\"update\",\n",
    "                        args=[{\"visible\": [False, False, False, False, False, True, False, False, False, False]},\n",
    "                            {\"title\": most_common_clusters_name[5]}]),\n",
    "                dict(label=most_common_clusters_name[6],\n",
    "                        method=\"update\",\n",
    "                        args=[{\"visible\": [False, False, False, False, False, False, True, False, False, False]},\n",
    "                            {\"title\": most_common_clusters_name[6]}]),\n",
    "                dict(label=most_common_clusters_name[7],\n",
    "                        method=\"update\",\n",
    "                        args=[{\"visible\": [False, False, False, False, False, False, False, True, False, False]},\n",
    "                            {\"title\": most_common_clusters_name[7]}]),\n",
    "                dict(label=most_common_clusters_name[8],\n",
    "                        method=\"update\",\n",
    "                        args=[{\"visible\": [False, False, False, False, False, False, False, False, True, False]},\n",
    "                            {\"title\": most_common_clusters_name[8]}]),\n",
    "                dict(label=most_common_clusters_name[9],\n",
    "                        method=\"update\",\n",
    "                        args=[{\"visible\": [False, False, False, False, False, False, False, False, False, True]},\n",
    "                            {\"title\": most_common_clusters_name[9]}]),\n",
    "\n",
    "            ]),\n",
    "        )\n",
    "    ])\n",
    "\n",
    "# Set the \n",
    "\n",
    "# Set title\n",
    "fig.update_layout(title_text=\"Ratio of characters in cluster by decade\")\n",
    "fig.show()\n",
    "#save as html\n",
    "fig.write_html(\"cluster.html\")"
   ]
  }
 ],
 "metadata": {
  "kernelspec": {
   "display_name": "Python 3",
   "language": "python",
   "name": "python3"
  },
  "language_info": {
   "codemirror_mode": {
    "name": "ipython",
    "version": 3
   },
   "file_extension": ".py",
   "mimetype": "text/x-python",
   "name": "python",
   "nbconvert_exporter": "python",
   "pygments_lexer": "ipython3",
   "version": "3.10.8"
  },
  "orig_nbformat": 4,
  "vscode": {
   "interpreter": {
    "hash": "949777d72b0d2535278d3dc13498b2535136f6dfe0678499012e853ee9abcab1"
   }
  }
 },
 "nbformat": 4,
 "nbformat_minor": 2
}
