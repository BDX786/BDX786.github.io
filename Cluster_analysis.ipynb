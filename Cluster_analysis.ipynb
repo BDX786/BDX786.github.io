{
 "cells": [
  {
   "cell_type": "code",
   "execution_count": null,
   "metadata": {},
   "outputs": [],
   "source": [
    "import os\n",
    "import pickle\n",
    "import spacy\n",
    "import pandas as pd\n",
    "import numpy as np\n",
    "import matplotlib.pyplot as plt\n",
    "import plotly.express as px\n",
    "import plotly.offline as offline\n",
    "import plotly.graph_objs as go\n",
    "import plotly.io as pio\n",
    "import seaborn as sns\n",
    "from ast import literal_eval\n",
    "from Cluster_analysis import *\n",
    "\n",
    "pd.options.mode.chained_assignment = None\n",
    "\n",
    "HOVER_TEMPLATE = \"<b>%{hovertext}</b><br><br>\" + \"Movie: %{customdata[0]}<br>\" + \"Release date: %{customdata[1]}<br>\" + \"Actor name: %{customdata[2]}<br>\" + \"Actor age at release: %{customdata[3]}<br>\" + \"Gender: %{customdata[4]}<br>\" + \"Character archetype: %{customdata[6]}<br>\" + \"Description: %{customdata[7]}<br>\" + \"Genres: %{customdata[8]}<br>\" + \"Box office revenue: %{customdata[9]}<br>\"\n",
    "TITLES = ['Decision-makers', 'Heroes & anti-heroes', 'Femme fatale', 'Cunning evil', 'Clumsy', 'Virtuous', 'Righteous warrior', 'Benevolent leader', 'Wise mentor', 'Captain', 'Ingenuous', 'Tycoon', 'Ruthless commander', 'Arrogant leader', 'Love interest', 'Reconciliator', 'Adventurous woman', 'Apprentice', 'Young lover', 'Logistician', 'Lawyer', 'Stubborn fool', 'Eccentric villain', 'Marksman', 'Goofy friend', 'Hardworking learner', 'Benevolent', 'Sophisticated psycopath', 'Nemesis', 'Corrupt', 'Good cop', 'Musician', 'Protector', 'Family-oriented']\n",
    "COLOR_SCALE = px.colors.cyclical.HSV\n",
    "COLOR_PALETTE = [[round(255*c) for c in color] for color in sns.color_palette(\"hls\", len(TITLES))]"
   ]
  },
  {
   "attachments": {},
   "cell_type": "markdown",
   "metadata": {},
   "source": [
    "### 1. Pre-processing data "
   ]
  },
  {
   "cell_type": "code",
   "execution_count": null,
   "metadata": {},
   "outputs": [],
   "source": [
    "final_path = 'Data/final_df.csv'\n",
    "\n",
    "# Load final_df from csv file\n",
    "df = pd.read_csv(final_path, sep='\\t')\n",
    "df = df.fillna('Not Available')\n",
    "df['partner'] = df['partner'].replace('Not Available', 'No partner')\n",
    "\n",
    "# Convert the elements of the partner column that are not 'No partner' to a list\n",
    "df['partner'] = df['partner'].apply(\n",
    "    lambda x: x[1:-1].split(',') if x != 'No partner' else x)\n",
    "\n",
    "# Remove the square brackets from the elements of the partner column that are not 'No partner'\n",
    "df['partner'] = df['partner'].apply(\n",
    "    lambda x: [y.strip(' ').strip('\\'') for y in x] if x != 'No partner' else x)\n",
    "\n",
    "# Remove duplicates in the partners column\n",
    "df['partner'] = df['partner'].apply(lambda x: list(set(x)) if x != 'No partner' else x)\n",
    "\n",
    "# Convert the descriptions to by evaluating literal\n",
    "df['descriptions'] = df['descriptions'].apply(lambda x: literal_eval(x) if x != 'Not Available' else x)\n",
    "df['filtered_descriptions'] = df['filtered_descriptions'].apply(lambda x: literal_eval(x) if x != 'Not Available' else x)\n",
    "\n",
    "# Label each cluster and compute their centroids\n",
    "num_clusters = df['labels'].nunique()\n",
    "\n",
    "# Add colors\n",
    "df['colors'] = df['labels'].apply(lambda x: COLOR_PALETTE[x])"
   ]
  },
  {
   "cell_type": "markdown",
   "metadata": {},
   "source": [
    "TODO: **Group characters appearing in multiple movies**"
   ]
  },
  {
   "attachments": {},
   "cell_type": "markdown",
   "metadata": {},
   "source": [
    "### 2. Full graph"
   ]
  },
  {
   "cell_type": "code",
   "execution_count": null,
   "metadata": {},
   "outputs": [],
   "source": [
    "fig = create_cloud(df, save=True)\n",
    "fig.show()"
   ]
  },
  {
   "attachments": {},
   "cell_type": "markdown",
   "metadata": {},
   "source": [
    "### 3. Filtered cloud"
   ]
  },
  {
   "cell_type": "code",
   "execution_count": null,
   "metadata": {},
   "outputs": [],
   "source": [
    "fig_romgen = create_cat_clouds(df, save=True)\n",
    "fig_romgen.show()"
   ]
  },
  {
   "cell_type": "markdown",
   "metadata": {},
   "source": [
    "### 4. Relations"
   ]
  },
  {
   "cell_type": "code",
   "execution_count": null,
   "metadata": {},
   "outputs": [],
   "source": [
    "rel_fig = create_rel_cloud(df, save=True)\n",
    "rel_fig.show()"
   ]
  },
  {
   "attachments": {},
   "cell_type": "markdown",
   "metadata": {},
   "source": [
    "### 5. Time cloud"
   ]
  },
  {
   "cell_type": "code",
   "execution_count": null,
   "metadata": {},
   "outputs": [],
   "source": [
    "fig_time = create_time_cloud(df, save=True)\n",
    "fig_time.show()\n"
   ]
  },
  {
   "cell_type": "markdown",
   "metadata": {},
   "source": [
    "### Word relations"
   ]
  },
  {
   "cell_type": "code",
   "execution_count": null,
   "metadata": {},
   "outputs": [],
   "source": [
    "# Concatenate the descriptions of the partners\n",
    "df['partner_description'] = df['partner'].apply(lambda x: [df[df['Freebase character ID'] == y]['descriptions'].values[0] for y in x] if x != 'No partner' else x)\n",
    "df['partner_description'] = df['partner_description'].apply(lambda x: [y for y in x if y != 'Not Available'] if x != 'No partner' else x)\n",
    "df['partner_description'] = df['partner_description'].apply(lambda x: [item for sublist in x for item in sublist] if x != 'No partner' else x)\n",
    "\n",
    "# For each cluster, concatenate the descriptions of the partners\n",
    "grouped = df.groupby('labels').aggregate({'partner_description': lambda x: [item for sublist in x for item in sublist if sublist != 'No partner']})\n",
    "\n",
    "# Get the top 5 most common partner descriptions\n",
    "#from collections import Counter\n",
    "#grouped['partner_description'] = grouped['partner_description'].apply(lambda x: [item[0] for item in Counter(x).most_common(5)])\n",
    "\n",
    "# Save to csv\n",
    "grouped.to_csv('Data/partner_descriptions.csv', sep='\\t')"
   ]
  },
  {
   "cell_type": "code",
   "execution_count": null,
   "metadata": {},
   "outputs": [],
   "source": []
  }
 ],
 "metadata": {
  "kernelspec": {
   "display_name": "Python 3.9.6 64-bit",
   "language": "python",
   "name": "python3"
  },
  "language_info": {
   "codemirror_mode": {
    "name": "ipython",
    "version": 3
   },
   "file_extension": ".py",
   "mimetype": "text/x-python",
   "name": "python",
   "nbconvert_exporter": "python",
   "pygments_lexer": "ipython3",
   "version": "3.9.6"
  },
  "orig_nbformat": 4,
  "vscode": {
   "interpreter": {
    "hash": "31f2aee4e71d21fbe5cf8b01ff0e069b9275f58929596ceb00d14d90e3e16cd6"
   }
  }
 },
 "nbformat": 4,
 "nbformat_minor": 2
}
