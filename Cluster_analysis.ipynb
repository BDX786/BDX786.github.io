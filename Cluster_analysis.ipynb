{
 "cells": [
  {
   "cell_type": "code",
   "execution_count": null,
   "metadata": {},
   "outputs": [],
   "source": [
    "import os\n",
    "import pickle\n",
    "import spacy\n",
    "import pandas as pd\n",
    "import numpy as np\n",
    "import matplotlib.pyplot as plt\n",
    "import plotly.express as px\n",
    "import plotly.offline as offline\n",
    "import plotly.graph_objs as go\n",
    "import plotly.io as pio\n",
    "import seaborn as sns\n",
    "from ast import literal_eval\n",
    "from Cluster_analysis import *\n",
    "\n",
    "pd.options.mode.chained_assignment = None\n",
    "\n",
    "HOVER_TEMPLATE = \"<b>%{hovertext}</b><br><br>\" + \"Movie: %{customdata[0]}<br>\" + \"Release date: %{customdata[1]}<br>\" + \"Actor name: %{customdata[2]}<br>\" + \"Actor age at release: %{customdata[3]}<br>\" + \"Gender: %{customdata[4]}<br>\" + \"Character archetype: %{customdata[6]}<br>\" + \"Description: %{customdata[7]}<br>\" + \"Genres: %{customdata[8]}<br>\" + \"Box office revenue: %{customdata[9]}<br>\"\n",
    "TITLES = ['Decision-makers', 'Heroes & anti-heroes', 'Femme fatale', 'Cunning evil', 'Clumsy', 'Virtuous', 'Righteous warrior', 'Benevolent leader', 'Wise mentor', 'Captain', 'Ingenuous', 'Tycoon', 'Ruthless commander', 'Arrogant leader', 'Love interest', 'Reconciliator', 'Adventurous woman', 'Apprentice', 'Young lover', 'Logistician', 'Lawyer', 'Stubborn fool', 'Eccentric villain', 'Marksman', 'Goofy friend', 'Hardworking learner', 'Benevolent', 'Sophisticated psycopath', 'Nemesis', 'Corrupt', 'Good cop', 'Musician', 'Protector', 'Family-oriented']\n",
    "COLOR_SCALE = px.colors.cyclical.HSV\n",
    "COLOR_PALETTE = [[round(255*c) for c in color] for color in sns.color_palette(\"hls\", len(TITLES))]"
   ]
  },
  {
   "attachments": {},
   "cell_type": "markdown",
   "metadata": {},
   "source": [
    "### 1. Pre-processing data "
   ]
  },
  {
   "cell_type": "code",
   "execution_count": null,
   "metadata": {},
   "outputs": [],
   "source": [
    "final_path = 'Data/final_df.csv'\n",
    "\n",
    "# Load final_df from csv file\n",
    "df = pd.read_csv(final_path, sep='\\t')\n",
    "df = df.fillna('Not Available')\n",
    "df['partner'] = df['partner'].replace('Not Available', 'No partner')\n",
    "\n",
    "# Convert the elements of the partner column that are not 'No partner' to a list\n",
    "df['partner'] = df['partner'].apply(\n",
    "    lambda x: x[1:-1].split(',') if x != 'No partner' else x)\n",
    "\n",
    "# Remove the square brackets from the elements of the partner column that are not 'No partner'\n",
    "df['partner'] = df['partner'].apply(\n",
    "    lambda x: [y.strip(' ').strip('\\'') for y in x] if x != 'No partner' else x)\n",
    "\n",
    "# Remove duplicates in the partners column\n",
    "df['partner'] = df['partner'].apply(lambda x: list(set(x)) if x != 'No partner' else x)\n",
    "\n",
    "# Convert the descriptions to by evaluating literal\n",
    "df['descriptions'] = df['descriptions'].apply(lambda x: literal_eval(x) if x != 'Not Available' else x)\n",
    "df['filtered_descriptions'] = df['filtered_descriptions'].apply(lambda x: literal_eval(x) if x != 'Not Available' else x)\n",
    "\n",
    "# Label each cluster and compute their centroids\n",
    "num_clusters = df['labels'].nunique()\n",
    "\n",
    "# Add colors\n",
    "df['colors'] = df['labels'].apply(lambda x: COLOR_PALETTE[x])"
   ]
  },
  {
   "cell_type": "markdown",
   "metadata": {},
   "source": [
    "TODO: **Group characters appearing in multiple movies**"
   ]
  },
  {
   "attachments": {},
   "cell_type": "markdown",
   "metadata": {},
   "source": [
    "### 2. Full graph"
   ]
  },
  {
   "cell_type": "code",
   "execution_count": null,
   "metadata": {},
   "outputs": [],
   "source": [
    "fig = create_cloud(df, save=True)\n",
    "fig.show()"
   ]
  },
  {
   "attachments": {},
   "cell_type": "markdown",
   "metadata": {},
   "source": [
    "### 3. Filtered cloud"
   ]
  },
  {
   "cell_type": "code",
   "execution_count": null,
   "metadata": {},
   "outputs": [],
   "source": [
    "fig_romgen = create_cat_clouds(df, save=True)\n",
    "fig_romgen.show()"
   ]
  },
  {
   "cell_type": "markdown",
   "metadata": {},
   "source": [
    "### 4. Relations"
   ]
  },
  {
   "cell_type": "code",
   "execution_count": null,
   "metadata": {},
   "outputs": [],
   "source": [
    "rel_fig = create_rel_cloud(df, save=True)\n",
    "rel_fig.show()"
   ]
  },
  {
   "attachments": {},
   "cell_type": "markdown",
   "metadata": {},
   "source": [
    "### 5. Time cloud"
   ]
  },
  {
   "cell_type": "code",
   "execution_count": null,
   "metadata": {},
   "outputs": [],
   "source": [
    "fig_time = create_time_cloud(df, save=True)\n",
    "fig_time.show()\n"
   ]
  },
  {
   "cell_type": "markdown",
   "metadata": {},
   "source": [
    "### Word relations"
   ]
  },
  {
   "cell_type": "code",
   "execution_count": null,
   "metadata": {},
   "outputs": [],
   "source": [
    "# Concatenate the descriptions of the partners\n",
    "df['partner_description'] = df['partner'].apply(lambda x: [df[df['Freebase character ID'] == y]['descriptions'].values[0] for y in x] if x != 'No partner' else x)\n",
    "df['partner_description'] = df['partner_description'].apply(lambda x: [y for y in x if y != 'Not Available'] if x != 'No partner' else x)\n",
    "df['partner_description'] = df['partner_description'].apply(lambda x: [item for sublist in x for item in sublist] if x != 'No partner' else x)\n",
    "\n",
    "# For each cluster, concatenate the descriptions of the partners\n",
    "grouped = df.groupby('labels').aggregate({'partner_description': lambda x: [item for sublist in x for item in sublist if sublist != 'No partner']})\n",
    "\n",
    "# Get the top 5 most common partner descriptions\n",
    "#from collections import Counter\n",
    "#grouped['partner_description'] = grouped['partner_description'].apply(lambda x: [item[0] for item in Counter(x).most_common(5)])\n",
    "\n",
    "# Save to csv\n",
    "grouped.to_csv('Data/partner_descriptions.csv', sep='\\t')"
   ]
  },
  {
   "cell_type": "code",
   "execution_count": null,
   "metadata": {},
   "outputs": [],
   "source": [
    "partner_des = pd.read_csv('Data/partner_descriptions.csv', sep='\\t')"
   ]
  },
  {
   "cell_type": "code",
   "execution_count": null,
   "metadata": {},
   "outputs": [],
   "source": [
    "df['title'] = df['title'].apply(lambda x: x.replace('[', '').replace(']', '').replace(\"'\", '').split(', '))\n",
    "\n",
    "# loop over filtered descriptions of a character with a partner, so the column partner is not No partner\n",
    "dict_description = dict()\n",
    "for i in range(len(df)):\n",
    "    if df['partner'][i] != 'No partner' and df['title'][i] != 'Not Available':\n",
    "        # loop over the partners of the character\n",
    "        for j in range(len(df['partner'][i])):\n",
    "            # Get Freebase character ID of the partner\n",
    "            partner_id = df['partner'][i][j]\n",
    "            # For each filtered description of the character, add the filtered desription of the partner as a value\n",
    "            for k in range(len(df['title'][i])):\n",
    "                # If the description is not already in the dictionary, add it as a key and the partner description as a value\n",
    "                if df['title'][i][k] not in dict_description.keys():\n",
    "                    dict_description[df['title'][i][k]] = [df[df['Freebase character ID'] == partner_id]['title'].values[0]]\n",
    "                # If the description is already in the dictionary, add the partner description as a value\n",
    "                else:\n",
    "                    dict_description[df['title'][i][k]].append(df[df['Freebase character ID'] == partner_id]['title'].values[0])\n"
   ]
  },
  {
   "cell_type": "code",
   "execution_count": null,
   "metadata": {},
   "outputs": [],
   "source": [
    "# flatten the lists of values for each key\n",
    "for key in dict_description.keys():\n",
    "    dict_description[key] = [item for sublist in dict_description[key] for item in sublist]"
   ]
  },
  {
   "cell_type": "code",
   "execution_count": null,
   "metadata": {},
   "outputs": [],
   "source": [
    "#import counter\n",
    "from collections import Counter\n",
    "\n",
    "# For each key, get the top 5 most frequent values. Discard the values that are not in the top 5\n",
    "for key in dict_description.keys():\n",
    "    # Get the top5 most frequent values per key\n",
    "    top5 = [item[0] for item in Counter(dict_description[key]).most_common(5)]\n",
    "    # Discard the values that are not in the top 5\n",
    "    dict_description[key] = [item for item in dict_description[key] if item in top5]\n",
    "    \n",
    "# remove duplicate values for each key\n",
    "for key in dict_description.keys():\n",
    "    dict_description[key] = list(set(dict_description[key]))\n"
   ]
  },
  {
   "cell_type": "code",
   "execution_count": null,
   "metadata": {},
   "outputs": [],
   "source": [
    "# Create a dataframe, with a column \"Descriptive word\" and a column \"Partner descriptions\"\n",
    "df_partner_descriptions = pd.DataFrame(columns=['Descriptive word', 'Partner descriptions'])\n",
    "# Add the descriptive words as the first column\n",
    "df_partner_descriptions['Descriptive word'] = dict_description.keys()\n",
    "# Add the partner descriptions as the second column\n",
    "df_partner_descriptions['Partner descriptions'] = dict_description.values()\n",
    "\n",
    "# remove rows where the partner descriptions have less than 3 elements\n",
    "#f_partner_descriptions = df_partner_descriptions[df_partner_descriptions['Partner descriptions'].apply(lambda x: len(x) >= 4)]\n",
    "df_partner_descriptions\n",
    "\n",
    "# remove the rows where the descriptive word is Not Available\n",
    "df_partner_descriptions = df_partner_descriptions[df_partner_descriptions['Descriptive word'] != 'Not Available']\n",
    "# remove the items \"Not Available\" from the partner descriptions\n",
    "df_partner_descriptions['Partner descriptions'] = df_partner_descriptions['Partner descriptions'].apply(lambda x: [item for item in x if item != 'Not Available'])\n",
    "# remove the rows where the partner descriptions are empty\n",
    "df_partner_descriptions = df_partner_descriptions[df_partner_descriptions['Partner descriptions'].apply(lambda x: len(x) > 0)]\n",
    "df_partner_descriptions"
   ]
  }
 ],
 "metadata": {
  "kernelspec": {
   "display_name": "Python 3.9.6 64-bit",
   "language": "python",
   "name": "python3"
  },
  "language_info": {
   "codemirror_mode": {
    "name": "ipython",
    "version": 3
   },
   "file_extension": ".py",
   "mimetype": "text/x-python",
   "name": "python",
   "nbconvert_exporter": "python",
   "pygments_lexer": "ipython3",
   "version": "3.9.6"
  },
  "orig_nbformat": 4,
  "vscode": {
   "interpreter": {
    "hash": "31f2aee4e71d21fbe5cf8b01ff0e069b9275f58929596ceb00d14d90e3e16cd6"
   }
  }
 },
 "nbformat": 4,
 "nbformat_minor": 2
}
