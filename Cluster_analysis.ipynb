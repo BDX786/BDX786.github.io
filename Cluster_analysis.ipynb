{
 "cells": [
  {
   "cell_type": "code",
   "execution_count": null,
   "metadata": {},
   "outputs": [],
   "source": [
    "import os\n",
    "import pickle\n",
    "import spacy\n",
    "import pandas as pd\n",
    "import numpy as np\n",
    "import matplotlib.pyplot as plt\n",
    "import plotly.express as px\n",
    "import plotly.offline as offline\n",
    "import plotly.graph_objs as go\n",
    "from Cluster_analysis import *\n"
   ]
  },
  {
   "cell_type": "code",
   "execution_count": null,
   "metadata": {},
   "outputs": [],
   "source": [
    "PATH = 'Data/final_df.csv'\n",
    "# Load final_df from csv file\n",
    "df = pd.read_csv(PATH, sep='\\t')\n",
    "# Fill missing values with 'Not Available' for all columns except 'Partner'\n",
    "df = df.fillna('Not Available')\n",
    "# Replace 'Not Available' with 'No partner' for 'Partner' column\n",
    "df['partner'] = df['partner'].replace('Not Available', 'No partner')\n",
    "df.head(3)\n"
   ]
  },
  {
   "attachments": {},
   "cell_type": "markdown",
   "metadata": {},
   "source": [
    "## Full graph"
   ]
  },
  {
   "cell_type": "code",
   "execution_count": null,
   "metadata": {},
   "outputs": [],
   "source": [
    "#computes centroid of each cluster\n",
    "def compute_centroids(df, column):\n",
    "    centroids = []\n",
    "    for i in range(df[column].max()+1):\n",
    "        centroids.append(df[df[column] == i][['X', 'Y', 'Z']].mean().values)\n",
    "    return centroids\n",
    "\n",
    "centroids = compute_centroids(df, 'labels')\n",
    "\n",
    "# Plotly 3D scatter plot\n",
    "fig = px.scatter_3d(df, x='X', y='Y', z='Z', color='labels', \n",
    "                    color_continuous_scale=px.colors.cyclical.HSV, hover_name='Character name', hover_data={'Name': True,\n",
    "                    'Release date': True, 'Actor name': True, 'Actor age at release': True, 'Gender': True, 'X': False,\n",
    "                    'Y': False, 'Z': False, 'labels': False, 'title': True, 'filtered_descriptions': True, 'partner': True})\n",
    "\n",
    "fig.update_traces(marker=dict(size=3, colorscale='Viridis'), marker_line_width=1, marker_line_color='DarkSlateGrey', hovertemplate =\n",
    "            \"<b>%{hovertext}</b><br><br>\" +\n",
    "            \"Movie: %{customdata[0]}<br>\" +\n",
    "            \"Release date: %{customdata[1]}<br>\" +\n",
    "            \"Actor name: %{customdata[2]}<br>\" +\n",
    "            \"Actor age at release: %{customdata[3]}<br>\" +\n",
    "            \"Gender: %{customdata[4]}<br>\" +\n",
    "            \"Character archetype: %{customdata[6]}<br>\"),\n",
    "            #\"Description: %{customdata[8]}<br>\"),\n",
    "\n",
    "fig = add_centroids(fig, centroids)\n",
    "\n",
    "fig = set_layout(fig)\n",
    "\n",
    "# Make initial plot more zoomed in\n",
    "fig.update_layout(scene_camera_eye=dict(x=0.5, y=0.5, z=0.5))\n",
    "\n",
    "# Make the height of the plot larger\n",
    "fig.update_layout(height=800)\n",
    "\n",
    "fig.show()\n",
    "fig.write_html(\"Plot4Website.html\")"
   ]
  }
 ],
 "metadata": {
  "kernelspec": {
   "display_name": "base",
   "language": "python",
   "name": "python3"
  },
  "language_info": {
   "codemirror_mode": {
    "name": "ipython",
    "version": 3
   },
   "file_extension": ".py",
   "mimetype": "text/x-python",
   "name": "python",
   "nbconvert_exporter": "python",
   "pygments_lexer": "ipython3",
   "version": "3.9.12"
  },
  "orig_nbformat": 4,
  "vscode": {
   "interpreter": {
    "hash": "cda0ac541ab6c535dcb4ffe1de6394d0d0ba460ea4bcec2c3250fd08f595b9ac"
   }
  }
 },
 "nbformat": 4,
 "nbformat_minor": 2
}
