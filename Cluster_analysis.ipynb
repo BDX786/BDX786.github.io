{
 "cells": [
  {
   "cell_type": "code",
   "execution_count": null,
   "metadata": {},
   "outputs": [],
   "source": [
    "import os\n",
    "import pickle\n",
    "import spacy\n",
    "import pandas as pd\n",
    "import numpy as np\n",
    "import matplotlib.pyplot as plt\n",
    "import plotly.express as px\n",
    "import plotly.offline as offline\n",
    "import plotly.graph_objs as go\n",
    "from Cluster_analysis import *\n",
    "pd.options.mode.chained_assignment = None\n",
    "\n",
    "\n",
    "Hovertemplate = \"<b>%{hovertext}</b><br><br>\" + \"Movie: %{customdata[0]}<br>\" + \"Release date: %{customdata[1]}<br>\" + \"Actor name: %{customdata[2]}<br>\" + \"Actor age at release: %{customdata[3]}<br>\" + \"Gender: %{customdata[4]}<br>\" + \"Character archetype: %{customdata[6]}<br>\" + \"Description: %{customdata[7]}<br>\" + \"Genres: %{customdata[8]}<br>\" + \"Box office revenue: %{customdata[9]}<br>\"\n",
    "\n"
   ]
  },
  {
   "attachments": {},
   "cell_type": "markdown",
   "metadata": {},
   "source": [
    "## Loading data "
   ]
  },
  {
   "cell_type": "code",
   "execution_count": null,
   "metadata": {},
   "outputs": [],
   "source": [
    "PATH = 'Data/final_df.csv'\n",
    "# Load final_df from csv file\n",
    "df = pd.read_csv(PATH, sep='\\t')\n",
    "# Fill missing values with 'Not Available' for all columns except 'Partner'\n",
    "df = df.fillna('Not Available')\n",
    "# Replace 'Not Available' with 'No partner' for 'Partner' column\n",
    "df['partner'] = df['partner'].replace('Not Available', 'No partner')\n",
    "# Convert the elements of the partner column that are not 'No partner' to a list\n",
    "df['partner'] = df['partner'].apply(\n",
    "    lambda x: x[1:-1].split(',') if x != 'No partner' else x)\n",
    "# Remove the square brackets from the elements of the partner column that are not 'No partner', also remove the spaces and the single quotes\n",
    "df['partner'] = df['partner'].apply(\n",
    "    lambda x: [y.strip(' ').strip('\\'') for y in x] if x != 'No partner' else x)\n",
    "\n",
    "titles = ['Decision-makers', 'Heroes & anti-heroes', 'Femme fatale', 'Cunning evil', 'Clumsy antagonist', 'Virtuous', 'Righteous warrior', 'Benevolent leader', 'Eccentric mentor', 'Arrogant leader', 'Naive ingénu', 'Tycoon', 'Ruthless commander', 'Arrogant leader', 'Love interest',\n",
    "          'Reconciliator', 'Adventurous woman', 'Apprentice', 'Young lover', 'Logistician', 'Lawyer', 'Stubborn fool', 'Eccentric vilain', 'Marksman', 'Goofy friend', 'Hardworking learner', 'Benevolent friend', 'Sophisticated psycopath', 'Nemesis', 'Corrupt', 'Good cop', 'Protector', 'Young girl']\n",
    "\n",
    "# computes centroid of each cluster\n",
    "centroids = compute_centroids(df, 'labels')\n"
   ]
  },
  {
   "attachments": {},
   "cell_type": "markdown",
   "metadata": {},
   "source": [
    "## Full graph"
   ]
  },
  {
   "cell_type": "code",
   "execution_count": null,
   "metadata": {},
   "outputs": [],
   "source": [
    "store = False\n",
    "# Plotly 3D scatter plot\n",
    "fig = px.scatter_3d(df, x='X', y='Y', z='Z', color='labels', \n",
    "                    color_continuous_scale=px.colors.cyclical.HSV, hover_name='Character name', hover_data={'Name': True,\n",
    "                    'Release date': True, 'Actor name': True, 'Actor age at release': True, 'Gender': True, 'X': False,\n",
    "                                                                                                            'Y': False, 'Z': False, 'labels': False, 'title': True, 'filtered_descriptions': True, 'Genres': True, 'Box office revenue': True, 'partner': False})\n",
    "fig = add_centroids(fig, centroids, titles)\n",
    "fig = set_layout(fig, df, Hovertemplate)\n",
    "fig.show()\n",
    "if store:\n",
    "    fig.write_html(\"Plots/Full_plot.html\")"
   ]
  },
  {
   "attachments": {},
   "cell_type": "markdown",
   "metadata": {},
   "source": [
    "## Romance vs non-romance"
   ]
  },
  {
   "cell_type": "code",
   "execution_count": null,
   "metadata": {},
   "outputs": [],
   "source": [
    "store = False\n",
    "# Make df_romance and df_non_romance\n",
    "df_romance = df[df['romance'] == True]\n",
    "df_nonromance = df[df['romance'] == False]\n",
    "fig_rom = px.scatter_3d(df_romance, x='X', y='Y', z='Z', color='labels',\n",
    "                    color_continuous_scale=px.colors.cyclical.HSV, hover_name='Character name', hover_data={'Name': True,\n",
    "                                                                                                            'Release date': True, 'Actor name': True, 'Actor age at release': True, 'Gender': True, 'X': False,\n",
    "                                                                                                            'Y': False, 'Z': False, 'labels': False, 'title': True, 'filtered_descriptions': True, 'Genres': True, 'Box office revenue': True, 'partner': False})\n",
    "fig_nonrom = px.scatter_3d(df_nonromance, x='X', y='Y', z='Z', color='labels',\n",
    "                    color_continuous_scale=px.colors.cyclical.HSV, hover_name='Character name', hover_data={'Name': True,\n",
    "                                                                                                            'Release date': True, 'Actor name': True, 'Actor age at release': True, 'Gender': True, 'X': False,\n",
    "                                                                                                            'Y': False, 'Z': False, 'labels': False, 'title': True, 'filtered_descriptions': True, 'Genres': True, 'Box office revenue': True, 'partner': False})\n",
    "# fig_rom, fig_nonrom = set_layout(fig_rom, df_romance, Hovertemplate), set_layout(fig_nonrom, df_nonromance, Hovertemplate)\n",
    "trace_nonrom = fig_nonrom.data[0]\n",
    "\n",
    "fig_rom.add_trace(trace_nonrom)\n",
    "\n",
    "fig_rom = set_layout(fig_rom, df, Hovertemplate)\n",
    "fig_rom = add_centroids(fig_rom, centroids, titles)\n",
    "fig_rom = add_button_romance(fig_rom)\n",
    "fig.show()\n",
    "if store:\n",
    "    fig.write_html(\"Plots/Romance_plot.html\")"
   ]
  },
  {
   "attachments": {},
   "cell_type": "markdown",
   "metadata": {},
   "source": [
    "## Genders"
   ]
  },
  {
   "cell_type": "code",
   "execution_count": null,
   "metadata": {},
   "outputs": [],
   "source": [
    "store = True\n",
    "\n",
    "# Make three dataframes\n",
    "df_male = df[df['Gender'] == 'M']\n",
    "df_female = df[df['Gender'] == 'F']\n",
    "df_unknown = df[df['Gender'] == 'Not Available']\n",
    "# Nake scatter plots for the three categories\n",
    "fig_male = px.scatter_3d(df_male, x='X', y='Y', z='Z', color='labels',\n",
    "                    color_continuous_scale=px.colors.cyclical.HSV, hover_name='Character name', hover_data={'Name': True,\n",
    "                                                                                                            'Release date': True, 'Actor name': True, 'Actor age at release': True, 'Gender': True, 'X': False,\n",
    "                                                                                                            'Y': False, 'Z': False, 'labels': False, 'title': True, 'filtered_descriptions': True, 'Genres': True, 'Box office revenue': True, 'partner': False})\n",
    "\n",
    "fig_female = px.scatter_3d(df_female, x='X', y='Y', z='Z', color='labels',\n",
    "                         color_continuous_scale=px.colors.cyclical.HSV, hover_name='Character name', hover_data={'Name': True,\n",
    "                                                                                                                 'Release date': True, 'Actor name': True, 'Actor age at release': True, 'Gender': True, 'X': False,\n",
    "                                                                                                                 'Y': False, 'Z': False, 'labels': False, 'title': True, 'filtered_descriptions': True, 'Genres': True, 'Box office revenue': True, 'partner': False})\n",
    "\n",
    "fig_unknown = px.scatter_3d(df_unknown, x='X', y='Y', z='Z', color='labels',\n",
    "                         color_continuous_scale=px.colors.cyclical.HSV, hover_name='Character name', hover_data={'Name': True,\n",
    "                                                                                                                 'Release date': True, 'Actor name': True, 'Actor age at release': True, 'Gender': True, 'X': False,\n",
    "                                                                                                                 'Y': False, 'Z': False, 'labels': False, 'title': True, 'filtered_descriptions': True, 'Genres': True, 'Box office revenue': True, 'partner': False})\n",
    "\n",
    "# Fix the layout of the three plots\n",
    "fig_male, fig_female, fig_unknown = set_layout(fig_male, df, Hovertemplate), set_layout(fig_female, df, Hovertemplate), set_layout(fig_unknown, df, Hovertemplate)\n",
    "trace_female = fig_female.data[0]\n",
    "trace_unknown = fig_unknown.data[0]\n",
    "\n",
    "# Add the female and unknown traces to the male plot\n",
    "fig_male.add_trace(trace_female)\n",
    "fig_male.add_trace(trace_unknown)\n",
    "\n",
    "# Add the centroids, and the button\n",
    "fig_male = add_centroids(fig_male, centroids, titles)\n",
    "fig_male = add_button_gender(fig_male)\n",
    "fig_male.show()\n",
    "if store:\n",
    "    fig.write_html(\"Plot/Gender_plot.html\")\n"
   ]
  },
  {
   "attachments": {},
   "cell_type": "markdown",
   "metadata": {},
   "source": [
    "## Relations"
   ]
  },
  {
   "cell_type": "code",
   "execution_count": null,
   "metadata": {},
   "outputs": [],
   "source": [
    "# For drawing clusters farther apart\n",
    "\n",
    "df['X'] = df['X'] + df['labels'] * 0.2\n",
    "df['Y'] = df['Y'] + df['labels'] * 0.2\n",
    "df['Z'] = df['Z'] + df['labels'] * 0.2\n",
    "\n",
    "# Bring the points in cluster 1 closer to the centroid of cluster 1, leave the other points unchanged\n",
    "for i in range(len(df)):\n",
    "    if df['labels'][i] == 1:\n",
    "        df['X'][i] = df['X'][i] - 0.2 * (df['X'][i] - centroids[1][0])\n",
    "        df['Y'][i] = df['Y'][i] - 0.2 * (df['Y'][i] - centroids[1][1])\n",
    "        df['Z'][i] = df['Z'][i] - 0.2 * (df['Z'][i] - centroids[1][2])\n"
   ]
  },
  {
   "cell_type": "code",
   "execution_count": null,
   "metadata": {},
   "outputs": [],
   "source": [
    "# Recalculate the centroids\n",
    "centroids = compute_centroids(df, 'labels')\n",
    "\n",
    "# Plotly 3D scatter plot\n",
    "fig_relations = px.scatter_3d(df, x='X', y='Y', z='Z', color='labels',\n",
    "                    color_continuous_scale=px.colors.cyclical.HSV, hover_name='Character name', hover_data={'Name': True,\n",
    "                                                                                                            'Release date': True, 'Actor name': True, 'Actor age at release': True, 'Gender': True, 'X': False,\n",
    "                                                                                                            'Y': False, 'Z': False, 'labels': False, 'title': True, 'filtered_descriptions': True, 'partner': True})\n",
    "# Add lines between characters that are in a relationship. The column 'partner' contains a list of the Freebase character IDs of the characters that the character is in a relationship with.\n",
    "for i in range(len(df)):\n",
    "    if df['partner'][i] != 'No partner':\n",
    "        for j in range(len(df['partner'][i])):\n",
    "            # Get the index of the character that the character is in a relationship with\n",
    "            index = df.index[df['Freebase character ID'] == df['partner'][i][j]].tolist()[0]\n",
    "            # Add a line between the two characters, the line should have 30% opacity\n",
    "            fig_relations.add_trace(go.Scatter3d(x=[df['X'][i], df['X'][index]], y=[df['Y'][i], df['Y'][index]], z=[df['Z'][i], df['Z'][index]], mode='lines', line=dict(color='white', width=1), opacity=0.2))\n",
    "\n",
    "fig_relations.update_traces(marker=dict(size=3, colorscale='Viridis'), marker_line_width=1, marker_line_color='DarkSlateGrey', hovertemplate =\n",
    "            \"<b>%{hovertext}</b><br><br>\" + \"Movie: %{customdata[0]}<br>\" + \"Release date: %{customdata[1]}<br>\" + \"Actor name: %{customdata[2]}<br>\")\n",
    "fig_relations = add_centroids(fig_relations, centroids, titles)\n",
    "fig_relations = set_layout(fig_relations)\n",
    "# Make initial plot more zoomed in\n",
    "fig_relations.update_layout(scene_camera_eye=dict(x=0.5, y=0.5, z=0.5))\n",
    "# Make the height of the plot larger\n",
    "fig_relations.update_layout(height=800)\n",
    "\n",
    "fig_relations.show()\n",
    "\n",
    "\n"
   ]
  },
  {
   "attachments": {},
   "cell_type": "markdown",
   "metadata": {},
   "source": [
    "## Slider for dates"
   ]
  },
  {
   "cell_type": "code",
   "execution_count": null,
   "metadata": {},
   "outputs": [],
   "source": [
    "df[\"Release date\"].unique()\n",
    "\n",
    "#copy df with NaN values replacing 'Not Available'\n",
    "df2 = df.copy()\n",
    "df2['Release date'] = df2['Release date'].replace('Not Available', 0)\n",
    "\n",
    "df2['Release date'].unique()\n"
   ]
  },
  {
   "cell_type": "code",
   "execution_count": null,
   "metadata": {},
   "outputs": [],
   "source": [
    "df2[\"Release date\"]\n",
    "\n",
    "# Convert the 'date' column to a floprintat\n",
    "if df2['Release date'][0] > 1000:\n",
    "    print(\"yes\")\n",
    "\n",
    "#Partition df2 in 5 dfs, one for each time period with apply method\n",
    "df_1 = df2[df2['Release date'].apply(lambda x: x < 1920)]\n",
    "df_2 = df2[df2['Release date'].apply(lambda x: x >= 1920 and x < 1940)]\n",
    "df_3 = df2[df2['Release date'].apply(lambda x: x >= 1940 and x < 1960)]\n",
    "df_4 = df2[df2['Release date'].apply(lambda x: x >= 1960 and x < 1980)]\n",
    "df_5 = df2[df2['Release date'].apply(lambda x: x >= 1980)]\n"
   ]
  },
  {
   "cell_type": "code",
   "execution_count": null,
   "metadata": {},
   "outputs": [],
   "source": [
    "#Partition df2 in 5 dfs, one for each time period with apply method\n",
    "df_1 = df2[df2['Release date'].apply(lambda x: x < 1920)]\n",
    "df_2 = df2[df2['Release date'].apply(lambda x: x >= 1920 and x < 1940)]\n",
    "df_3 = df2[df2['Release date'].apply(lambda x: x >= 1940 and x < 1960)]\n",
    "df_4 = df2[df2['Release date'].apply(lambda x: x >= 1960 and x < 1980)]\n",
    "df_5 = df2[df2['Release date'].apply(lambda x: x >= 1980)]\n",
    "\n",
    "#Create a plotly graph with 5 traces (one for each time period)\n",
    "fig_time = go.Figure()\n",
    "fig_time.add_trace(go.Scatter3d(x=df_1['X'], y=df_1['Y'], z=df_1['Z'], mode='markers', marker=dict(size=3, colorscale='Viridis'), marker_line_width=1, marker_line_color='DarkSlateGrey', hovertemplate =\n",
    "            \"<b>%{hovertext}</b><br><br>\" + \"Movie: %{customdata[0]}<br>\" + \"Release date: %{customdata[1]}<br>\" + \"Actor name: %{customdata[2]}<br>\"))\n",
    "fig_time.add_trace(go.Scatter3d(x=df_2['X'], y=df_2['Y'], z=df_2['Z'], mode='markers', marker=dict(size=3, colorscale='Viridis'), marker_line_width=1, marker_line_color='DarkSlateGrey', hovertemplate =\n",
    "            \"<b>%{hovertext}</b><br><br>\" + \"Movie: %{customdata[0]}<br>\" + \"Release date: %{customdata[1]}<br>\" + \"Actor name: %{customdata[2]}<br>\"))\n",
    "fig_time.add_trace(go.Scatter3d(x=df_3['X'], y=df_3['Y'], z=df_3['Z'], mode='markers', marker=dict(size=3, colorscale='Viridis'), marker_line_width=1, marker_line_color='DarkSlateGrey', hovertemplate =\n",
    "            \"<b>%{hovertext}</b><br><br>\" + \"Movie: %{customdata[0]}<br>\" + \"Release date: %{customdata[1]}<br>\" + \"Actor name: %{customdata[2]}<br>\"))\n",
    "fig_time.add_trace(go.Scatter3d(x=df_4['X'], y=df_4['Y'], z=df_4['Z'], mode='markers', marker=dict(size=3, colorscale='Viridis'), marker_line_width=1, marker_line_color='DarkSlateGrey', hovertemplate =\n",
    "            \"<b>%{hovertext}</b><br><br>\" + \"Movie: %{customdata[0]}<br>\" + \"Release date: %{customdata[1]}<br>\" + \"Actor name: %{customdata[2]}<br>\"))\n",
    "fig_time.add_trace(go.Scatter3d(x=df_5['X'], y=df_5['Y'], z=df_5['Z'], mode='markers', marker=dict(size=3, colorscale='Viridis'), marker_line_width=1, marker_line_color='DarkSlateGrey', hovertemplate =\n",
    "            \"<b>%{hovertext}</b><br><br>\" + \"Movie: %{customdata[0]}<br>\" + \"Release date: %{customdata[1]}<br>\" + \"Actor name: %{customdata[2]}<br>\"))\n",
    "\n",
    "#create a slider to switch between the time periods\n",
    "steps = []\n",
    "for i in range(5):\n",
    "    step = dict(\n",
    "        method=\"restyle\",\n",
    "        args=[\"visible\", [False] * 5],\n",
    "        label = 'Time period ' + str(i+1)\n",
    "    )\n",
    "    step[\"args\"][1][i] = True # Toggle i'th trace to \"visible\"\n",
    "    steps.append(step)\n",
    "\n",
    "sliders = [dict(\n",
    "    active=0,\n",
    "    currentvalue={\"prefix\": \"Time period: \"},\n",
    "    pad={\"t\": 50},\n",
    "    steps=steps\n",
    ")]\n",
    "\n",
    "fig_time.update_layout(\n",
    "    sliders=sliders\n",
    ")\n",
    "\n",
    "fig_time.show()\n"
   ]
  }
 ],
 "metadata": {
  "kernelspec": {
   "display_name": "Python 3",
   "language": "python",
   "name": "python3"
  },
  "language_info": {
   "codemirror_mode": {
    "name": "ipython",
    "version": 3
   },
   "file_extension": ".py",
   "mimetype": "text/x-python",
   "name": "python",
   "nbconvert_exporter": "python",
   "pygments_lexer": "ipython3",
   "version": "3.10.0"
  },
  "orig_nbformat": 4,
  "vscode": {
   "interpreter": {
    "hash": "4569753d6183756236fe9e99db19cdd8e758a6a350619760a2d723ed0ded6724"
   }
  }
 },
 "nbformat": 4,
 "nbformat_minor": 2
}
